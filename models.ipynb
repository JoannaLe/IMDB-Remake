{
  "nbformat": 4,
  "nbformat_minor": 0,
  "metadata": {
    "colab": {
      "name": "models.ipynb",
      "version": "0.3.2",
      "provenance": [],
      "include_colab_link": true
    },
    "kernelspec": {
      "name": "python3",
      "display_name": "Python 3"
    }
  },
  "cells": [
    {
      "cell_type": "markdown",
      "metadata": {
        "id": "view-in-github",
        "colab_type": "text"
      },
      "source": [
        "<a href=\"https://colab.research.google.com/github/JoannaLe/IMDB-Remake/blob/master/models.ipynb\" target=\"_parent\"><img src=\"https://colab.research.google.com/assets/colab-badge.svg\" alt=\"Open In Colab\"/></a>"
      ]
    },
    {
      "cell_type": "code",
      "metadata": {
        "id": "VrXN61UMcsAd",
        "colab_type": "code",
        "colab": {}
      },
      "source": [
        "from keras.applications.resnet50 import ResNet50\n",
        "from keras.layers import Conv2D, Dense, Dropout, Flatten, MaxPooling2D\n",
        "from keras.models import Sequential, Model\n",
        "\n",
        "import numpy as np\n",
        "import os\n",
        "import matplotlib.pyplot as plt"
      ],
      "execution_count": 0,
      "outputs": []
    },
    {
      "cell_type": "markdown",
      "metadata": {
        "id": "A5gawGnyc4_p",
        "colab_type": "text"
      },
      "source": [
        "## Model 1\n",
        "4 resnet models with a concatenation layer"
      ]
    },
    {
      "cell_type": "code",
      "metadata": {
        "id": "cFElnwjBc9Px",
        "colab_type": "code",
        "colab": {}
      },
      "source": [
        "img_shape = (300,300,3)\n",
        "\n",
        "zoom1 = ResNet50(include_top=True, weights='imagenet', input_shape=img_shape)\n",
        "zoom2 = ResNet50(include_top=True, weights='imagenet', input_shape=img_shape)\n",
        "zoom3 = ResNet50(include_top=True, weights='imagenet', input_shape=img_shape)\n",
        "zoom4 = ResNet50(include_top=True, weights='imagenet', input_shape=img_shape)\n",
        "\n",
        "# concatenation layer\n",
        "concat = Average()([zoom1.output, zoom2.output, zoom3.output, zoom4.output])\n",
        "\n",
        "full_model = Model([zoom1.input, zoom2.input, zoom3.input, zoom4.input], concat)\n"
      ],
      "execution_count": 0,
      "outputs": []
    },
    {
      "cell_type": "code",
      "metadata": {
        "id": "lLa3EyLAwPMs",
        "colab_type": "code",
        "colab": {}
      },
      "source": [
        "# to train, call\n",
        "EPOCHS = 20\n",
        "BATCH_SIZE = 32\n",
        "\n",
        "full_model.fit([X_train1, X_train2, X_train3, X_train4],\n",
        "               [Y_train1, Y_train2, Y_train3, Y_train4],\n",
        "                epochs=EPOCHS,\n",
        "                batch_size=BATCH_SIZE)\n",
        "\n",
        "score = model.evaluate([X_test1, X_test2, X_test3, X_test4],\n",
        "                       [Y_test1, Y_test2, Y_test3, Y_test4],\n",
        "                       batch_size=BATCH_SIZE)"
      ],
      "execution_count": 0,
      "outputs": []
    },
    {
      "cell_type": "markdown",
      "metadata": {
        "id": "eT3fVjtic9e-",
        "colab_type": "text"
      },
      "source": [
        "# Model 2\n",
        "Transfer Learning using weights from Resnet \\\\\n",
        "Extract features from Resnet weights and training/test data"
      ]
    },
    {
      "cell_type": "code",
      "metadata": {
        "id": "R9pcLg6adOND",
        "colab_type": "code",
        "colab": {}
      },
      "source": [
        "img_shape = (300,300,3)\n",
        "\n",
        "base = ResNet50(include_top=True, weights='imagenet', input_shape=img_shape)\n"
      ],
      "execution_count": 0,
      "outputs": []
    }
  ]
}